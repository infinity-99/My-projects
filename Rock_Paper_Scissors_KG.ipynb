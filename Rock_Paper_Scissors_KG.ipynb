{
  "nbformat": 4,
  "nbformat_minor": 0,
  "metadata": {
    "colab": {
      "name": "Rock Paper Scissors KG.ipynb",
      "provenance": [],
      "collapsed_sections": [],
      "authorship_tag": "ABX9TyO7uxZfguxI1cgV1EOdki0m",
      "include_colab_link": true
    },
    "kernelspec": {
      "name": "python3",
      "display_name": "Python 3"
    },
    "accelerator": "GPU"
  },
  "cells": [
    {
      "cell_type": "markdown",
      "metadata": {
        "id": "view-in-github",
        "colab_type": "text"
      },
      "source": [
        "<a href=\"https://colab.research.google.com/github/infinity-99/My-projects/blob/master/Rock_Paper_Scissors_KG.ipynb\" target=\"_parent\"><img src=\"https://colab.research.google.com/assets/colab-badge.svg\" alt=\"Open In Colab\"/></a>"
      ]
    },
    {
      "cell_type": "markdown",
      "metadata": {
        "id": "t3Z-KhzDT2NM",
        "colab_type": "text"
      },
      "source": [
        "## Installation"
      ]
    },
    {
      "cell_type": "code",
      "metadata": {
        "id": "6PMlARlCTggm",
        "colab_type": "code",
        "colab": {}
      },
      "source": [
        "pip install -q tensorflow tensorflow.datasets"
      ],
      "execution_count": null,
      "outputs": []
    },
    {
      "cell_type": "markdown",
      "metadata": {
        "id": "gpf3DZLeUvfx",
        "colab_type": "text"
      },
      "source": [
        "Import Necessary Libraries"
      ]
    },
    {
      "cell_type": "code",
      "metadata": {
        "id": "Bac6-qDHT0pO",
        "colab_type": "code",
        "colab": {}
      },
      "source": [
        "import matplotlib.pyplot as plt\n",
        "import numpy as np\n",
        "import tensorflow as tf\n",
        "import tensorflow_datasets as tfds\n",
        "\n",
        "from tensorflow import keras"
      ],
      "execution_count": null,
      "outputs": []
    },
    {
      "cell_type": "markdown",
      "metadata": {
        "id": "94nMBeWZV3q1",
        "colab_type": "text"
      },
      "source": [
        "Find Datasets"
      ]
    },
    {
      "cell_type": "code",
      "metadata": {
        "id": "bzZkTrJoV7S5",
        "colab_type": "code",
        "colab": {}
      },
      "source": [
        "tfds.list_builders()"
      ],
      "execution_count": null,
      "outputs": []
    },
    {
      "cell_type": "markdown",
      "metadata": {
        "id": "VpNJNi3Pj8mR",
        "colab_type": "text"
      },
      "source": [
        "Get Information on the Data"
      ]
    },
    {
      "cell_type": "code",
      "metadata": {
        "id": "-442hUa3WKfq",
        "colab_type": "code",
        "colab": {}
      },
      "source": [
        "builder = tfds.builder('rock_paper_scissors')\n",
        "info = builder.info\n",
        "info"
      ],
      "execution_count": null,
      "outputs": []
    },
    {
      "cell_type": "markdown",
      "metadata": {
        "id": "xP3JtrmfktaU",
        "colab_type": "text"
      },
      "source": [
        "Prepare rock, paper, scissors Data"
      ]
    },
    {
      "cell_type": "code",
      "metadata": {
        "id": "QXNqV8F3kX8E",
        "colab_type": "code",
        "colab": {}
      },
      "source": [
        "ds_train = tfds.load(name='rock_paper_scissors', split='train')\n",
        "ds_test = tfds.load(name='rock_paper_scissors', split = 'test')"
      ],
      "execution_count": null,
      "outputs": []
    },
    {
      "cell_type": "markdown",
      "metadata": {
        "id": "uQ9FeDO0l_kp",
        "colab_type": "text"
      },
      "source": [
        "## Show some Examples"
      ]
    },
    {
      "cell_type": "code",
      "metadata": {
        "id": "CQZlOOSPlg4I",
        "colab_type": "code",
        "colab": {}
      },
      "source": [
        "fig = tfds.show_examples(ds_train, info)"
      ],
      "execution_count": null,
      "outputs": []
    },
    {
      "cell_type": "markdown",
      "metadata": {
        "id": "7NNcSLGQm-ub",
        "colab_type": "text"
      },
      "source": [
        "## Additional Data Prep"
      ]
    },
    {
      "cell_type": "code",
      "metadata": {
        "id": "Lrua2-X_mZCF",
        "colab_type": "code",
        "colab": {}
      },
      "source": [
        "train_images = np.array([example['image'].numpy()[:,:,0] for example in ds_train])\n",
        "train_labels = np.array([example['label'].numpy() for example in ds_train])\n",
        "\n",
        "test_images = np.array([example['image'].numpy()[:,:,0] for example in ds_test])\n",
        "test_labels = np.array([example['label'].numpy() for example in ds_test])"
      ],
      "execution_count": null,
      "outputs": []
    },
    {
      "cell_type": "code",
      "metadata": {
        "id": "qLyw1LZnnjYE",
        "colab_type": "code",
        "colab": {}
      },
      "source": [
        "train_images = train_images.reshape(2520, 300, 300, 1)\n",
        "test_images = test_images.reshape(372, 300, 300, 1)\n",
        "\n",
        "train_images = train_images.astype('float32')\n",
        "test_images = test_images.astype('float32')\n",
        "\n",
        "train_images /= 255\n",
        "test_images /= 255"
      ],
      "execution_count": null,
      "outputs": []
    },
    {
      "cell_type": "code",
      "metadata": {
        "id": "oYWZbG2ZnsqL",
        "colab_type": "code",
        "colab": {
          "base_uri": "https://localhost:8080/",
          "height": 33
        },
        "outputId": "43e4ae68-b404-4497-f8e5-8470fb6b0068"
      },
      "source": [
        "train_images[0].shape"
      ],
      "execution_count": null,
      "outputs": [
        {
          "output_type": "execute_result",
          "data": {
            "text/plain": [
              "(300, 300, 1)"
            ]
          },
          "metadata": {
            "tags": []
          },
          "execution_count": 9
        }
      ]
    },
    {
      "cell_type": "markdown",
      "metadata": {
        "id": "jVkRzWJdsoQy",
        "colab_type": "text"
      },
      "source": [
        "## Train a network (basic approach)"
      ]
    },
    {
      "cell_type": "code",
      "metadata": {
        "id": "aDeYlP8RsR0K",
        "colab_type": "code",
        "colab": {}
      },
      "source": [
        "model = keras.Sequential([\n",
        "  keras.layers.Flatten(),\n",
        "  keras.layers.Dense(512, input_shape=(300, 300, 1), activation='relu'),\n",
        "  keras.layers.Dense(256, activation = 'relu'),\n",
        "  keras.layers.Dense(3, activation = 'softmax')\n",
        "])\n",
        "\n",
        "model.compile(optimizer = 'adam',\n",
        "              loss = keras.losses.SparseCategoricalCrossentropy(),\n",
        "              metrics=['accuracy'])\n",
        "\n",
        "model.fit(train_images, train_labels, epochs = 5, batch_size = 32)  "
      ],
      "execution_count": null,
      "outputs": []
    },
    {
      "cell_type": "code",
      "metadata": {
        "id": "I-mr2EBQukEq",
        "colab_type": "code",
        "colab": {}
      },
      "source": [
        "model.evaluate(test_images, test_labels)"
      ],
      "execution_count": null,
      "outputs": []
    },
    {
      "cell_type": "markdown",
      "metadata": {
        "id": "cNl9s91IwI40",
        "colab_type": "text"
      },
      "source": [
        "## Train a Network (convolutional approach)"
      ]
    },
    {
      "cell_type": "code",
      "metadata": {
        "id": "WkhfRRSivvwG",
        "colab_type": "code",
        "colab": {}
      },
      "source": [
        "model = keras.Sequential([\n",
        "  keras.layers.Conv2D(64, 3, activation= 'relu', input_shape = (300, 300, 1)),\n",
        "  keras.layers.Conv2D(32, 3, activation = 'relu'),\n",
        "  keras.layers.Flatten(),\n",
        "  keras.layers.Dense(3, activation = 'softmax')\n",
        "])\n",
        "\n",
        "model.compile(optimizer = 'adam',\n",
        "              loss = keras.losses.SparseCategoricalCrossentropy(),\n",
        "              metrics=['accuracy'])\n",
        "\n",
        "model.fit(train_images, train_labels, epochs = 5, batch_size = 32)"
      ],
      "execution_count": null,
      "outputs": []
    },
    {
      "cell_type": "code",
      "metadata": {
        "id": "q2o8VRWyx1fu",
        "colab_type": "code",
        "colab": {}
      },
      "source": [
        "model.evaluate(test_images, test_labels)"
      ],
      "execution_count": null,
      "outputs": []
    },
    {
      "cell_type": "markdown",
      "metadata": {
        "id": "mwiTE8Uq6GLs",
        "colab_type": "text"
      },
      "source": [
        "## A Better Convolutional Network"
      ]
    },
    {
      "cell_type": "code",
      "metadata": {
        "id": "IoX1l37YzV7A",
        "colab_type": "code",
        "colab": {}
      },
      "source": [
        "model = keras.Sequential([\n",
        "  keras.layers.AveragePooling2D(6,3, input_shape = (300, 300, 1)),\n",
        "  keras.layers.Conv2D(64, 3, activation= 'relu'),\n",
        "  keras.layers.Conv2D(32, 3, activation = 'relu'),\n",
        "  keras.layers.MaxPool2D(2, 2),\n",
        "  keras.layers.Dropout(0.5),\n",
        "  keras.layers.Flatten(),\n",
        "  keras.layers.Dense(128, activation='relu'),\n",
        "  keras.layers.Dense(3, activation = 'softmax')\n",
        "])\n",
        "\n",
        "model.compile(optimizer = 'adam',\n",
        "              loss = keras.losses.SparseCategoricalCrossentropy(),\n",
        "              metrics=['accuracy'])\n",
        "\n",
        "model.fit(train_images, train_labels, epochs = 5, batch_size = 32)"
      ],
      "execution_count": null,
      "outputs": []
    },
    {
      "cell_type": "code",
      "metadata": {
        "id": "xYdQfw-37mQn",
        "colab_type": "code",
        "colab": {}
      },
      "source": [
        "model.evaluate(test_images, test_labels)"
      ],
      "execution_count": null,
      "outputs": []
    },
    {
      "cell_type": "markdown",
      "metadata": {
        "id": "8hDG6jy79efj",
        "colab_type": "text"
      },
      "source": [
        "## Hyperparameter Tuning"
      ]
    },
    {
      "cell_type": "code",
      "metadata": {
        "id": "y8tGjvoS70LG",
        "colab_type": "code",
        "colab": {}
      },
      "source": [
        "pip install -U keras.tuner"
      ],
      "execution_count": null,
      "outputs": []
    },
    {
      "cell_type": "code",
      "metadata": {
        "id": "FeDrfHKY9zFx",
        "colab_type": "code",
        "colab": {}
      },
      "source": [
        "from kerastuner.tuners import RandomSearch\n",
        "\n",
        "def build_model(hp):\n",
        "  model = keras.Sequential()\n",
        "\n",
        "  model.add(keras.layers.AveragePooling2D(6, 3, input_shape = (300, 300, 1)))\n",
        "\n",
        "  for i in range(hp.Int(\"Conv Layers\", min_value=0, max_value=3)):\n",
        "\n",
        "  model.add(keras.layers.Conv2D(64, 3, activation='relu'))\n",
        "  model.add(keras.layers.Conv2D(32, 3, activation='relu'))\n",
        "\n",
        "  model.add(keras.layers.MaxPool2D(2, 2))\n",
        "  model.add(keras.layers.Dropout(0.5))\n",
        "  model.add(keras.layers.Flatten())\n",
        "\n",
        "  model.add(keras.layers.Dense(hp.Choice('Dense layer', [64, 128, 256, 512, 1024]), activation='relu'))\n",
        "\n",
        "  model.add(keras.layers.Dense(3, activation='softmax'))\n",
        "\n",
        "  model.compile(optimizer = 'adam',\n",
        "              loss = keras.losses.SparseCategoricalCrossentropy(),\n",
        "              metrics=['accuracy'])\n",
        "\n",
        "  return model\n",
        "\n",
        "tuner = RandomSearch(\n",
        "    build_model,\n",
        "    objective = 'val_accuracy',\n",
        "    max_trials=32,\n",
        ")\n",
        "\n",
        " \n",
        "tuner.search(train_images, train_labels, validation_data=(test_images, test_labels), epochs = 10, batch_size = 32)"
      ],
      "execution_count": null,
      "outputs": []
    },
    {
      "cell_type": "code",
      "metadata": {
        "id": "8G4N5LQcARXp",
        "colab_type": "code",
        "colab": {}
      },
      "source": [
        "best_model = tuner.get_best_models()[0]"
      ],
      "execution_count": null,
      "outputs": []
    },
    {
      "cell_type": "code",
      "metadata": {
        "id": "93iP-JqxGTAM",
        "colab_type": "code",
        "colab": {}
      },
      "source": [
        "best_model.evaluate(test_images, test_labels)"
      ],
      "execution_count": null,
      "outputs": []
    },
    {
      "cell_type": "code",
      "metadata": {
        "id": "pu9rgf8EGc5V",
        "colab_type": "code",
        "colab": {}
      },
      "source": [
        "best_model.summary()"
      ],
      "execution_count": null,
      "outputs": []
    },
    {
      "cell_type": "code",
      "metadata": {
        "id": "o8kRREShGsQS",
        "colab_type": "code",
        "colab": {}
      },
      "source": [
        "tuner.results_summary()"
      ],
      "execution_count": null,
      "outputs": []
    }
  ]
}