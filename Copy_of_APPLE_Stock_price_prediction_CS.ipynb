{
  "nbformat": 4,
  "nbformat_minor": 0,
  "metadata": {
    "colab": {
      "name": "Copy of APPLE Stock price prediction CS.ipynb",
      "provenance": [],
      "collapsed_sections": [],
      "authorship_tag": "ABX9TyP0sub3+ga07ICFgZo+69c/",
      "include_colab_link": true
    },
    "kernelspec": {
      "name": "python3",
      "display_name": "Python 3"
    }
  },
  "cells": [
    {
      "cell_type": "markdown",
      "metadata": {
        "id": "view-in-github",
        "colab_type": "text"
      },
      "source": [
        "<a href=\"https://colab.research.google.com/github/infinity-99/My-projects/blob/master/Copy_of_APPLE_Stock_price_prediction_CS.ipynb\" target=\"_parent\"><img src=\"https://colab.research.google.com/assets/colab-badge.svg\" alt=\"Open In Colab\"/></a>"
      ]
    },
    {
      "cell_type": "code",
      "metadata": {
        "id": "NzLvRj94ZfeL",
        "colab_type": "code",
        "colab": {}
      },
      "source": [
        "# Description: This program uses an artificial recurrent neural network called Long Short Term Memory (LSTM) \n",
        "#              to predict the closing stock price of a corporation (Apple Inc.) using the past 60 days stock price."
      ],
      "execution_count": null,
      "outputs": []
    },
    {
      "cell_type": "code",
      "metadata": {
        "id": "ReuytmX9aUQR",
        "colab_type": "code",
        "colab": {
          "base_uri": "https://localhost:8080/",
          "height": 70
        },
        "outputId": "93780c35-1598-423a-a57e-fce2c02ed842"
      },
      "source": [
        "# Import the libraries\n",
        "\n",
        "import math\n",
        "import pandas_datareader as web\n",
        "import numpy as np\n",
        "import pandas as pd\n",
        "from sklearn.preprocessing import MinMaxScaler\n",
        "from keras.models import Sequential\n",
        "from keras.layers import Dense, LSTM\n",
        "import matplotlib.pyplot as plt\n",
        "plt.style.use('fivethirtyeight')"
      ],
      "execution_count": null,
      "outputs": [
        {
          "output_type": "stream",
          "text": [
            "/usr/local/lib/python3.6/dist-packages/pandas_datareader/compat/__init__.py:7: FutureWarning: pandas.util.testing is deprecated. Use the functions in the public API at pandas.testing instead.\n",
            "  from pandas.util.testing import assert_frame_equal\n"
          ],
          "name": "stderr"
        }
      ]
    },
    {
      "cell_type": "code",
      "metadata": {
        "id": "XUMkeuhQbbMW",
        "colab_type": "code",
        "colab": {
          "base_uri": "https://localhost:8080/",
          "height": 434
        },
        "outputId": "6c981f27-6163-4033-c2b6-04a3bd1d79b4"
      },
      "source": [
        "# Get the stock quote\n",
        "\n",
        "df = web.DataReader('AAPL', data_source='yahoo', start='2012-01-01', end='2020-07-25')\n",
        "\n",
        "# show the data\n",
        "\n",
        "df"
      ],
      "execution_count": null,
      "outputs": [
        {
          "output_type": "execute_result",
          "data": {
            "text/html": [
              "<div>\n",
              "<style scoped>\n",
              "    .dataframe tbody tr th:only-of-type {\n",
              "        vertical-align: middle;\n",
              "    }\n",
              "\n",
              "    .dataframe tbody tr th {\n",
              "        vertical-align: top;\n",
              "    }\n",
              "\n",
              "    .dataframe thead th {\n",
              "        text-align: right;\n",
              "    }\n",
              "</style>\n",
              "<table border=\"1\" class=\"dataframe\">\n",
              "  <thead>\n",
              "    <tr style=\"text-align: right;\">\n",
              "      <th></th>\n",
              "      <th>High</th>\n",
              "      <th>Low</th>\n",
              "      <th>Open</th>\n",
              "      <th>Close</th>\n",
              "      <th>Volume</th>\n",
              "      <th>Adj Close</th>\n",
              "    </tr>\n",
              "    <tr>\n",
              "      <th>Date</th>\n",
              "      <th></th>\n",
              "      <th></th>\n",
              "      <th></th>\n",
              "      <th></th>\n",
              "      <th></th>\n",
              "      <th></th>\n",
              "    </tr>\n",
              "  </thead>\n",
              "  <tbody>\n",
              "    <tr>\n",
              "      <th>2012-01-03</th>\n",
              "      <td>58.928570</td>\n",
              "      <td>58.428570</td>\n",
              "      <td>58.485714</td>\n",
              "      <td>58.747143</td>\n",
              "      <td>75555200.0</td>\n",
              "      <td>50.765709</td>\n",
              "    </tr>\n",
              "    <tr>\n",
              "      <th>2012-01-04</th>\n",
              "      <td>59.240002</td>\n",
              "      <td>58.468571</td>\n",
              "      <td>58.571430</td>\n",
              "      <td>59.062859</td>\n",
              "      <td>65005500.0</td>\n",
              "      <td>51.038536</td>\n",
              "    </tr>\n",
              "    <tr>\n",
              "      <th>2012-01-05</th>\n",
              "      <td>59.792858</td>\n",
              "      <td>58.952858</td>\n",
              "      <td>59.278572</td>\n",
              "      <td>59.718571</td>\n",
              "      <td>67817400.0</td>\n",
              "      <td>51.605175</td>\n",
              "    </tr>\n",
              "    <tr>\n",
              "      <th>2012-01-06</th>\n",
              "      <td>60.392857</td>\n",
              "      <td>59.888573</td>\n",
              "      <td>59.967144</td>\n",
              "      <td>60.342857</td>\n",
              "      <td>79573200.0</td>\n",
              "      <td>52.144630</td>\n",
              "    </tr>\n",
              "    <tr>\n",
              "      <th>2012-01-09</th>\n",
              "      <td>61.107143</td>\n",
              "      <td>60.192856</td>\n",
              "      <td>60.785713</td>\n",
              "      <td>60.247143</td>\n",
              "      <td>98506100.0</td>\n",
              "      <td>52.061932</td>\n",
              "    </tr>\n",
              "    <tr>\n",
              "      <th>...</th>\n",
              "      <td>...</td>\n",
              "      <td>...</td>\n",
              "      <td>...</td>\n",
              "      <td>...</td>\n",
              "      <td>...</td>\n",
              "      <td>...</td>\n",
              "    </tr>\n",
              "    <tr>\n",
              "      <th>2020-07-20</th>\n",
              "      <td>394.000000</td>\n",
              "      <td>384.250000</td>\n",
              "      <td>385.670013</td>\n",
              "      <td>393.429993</td>\n",
              "      <td>22579500.0</td>\n",
              "      <td>392.721924</td>\n",
              "    </tr>\n",
              "    <tr>\n",
              "      <th>2020-07-21</th>\n",
              "      <td>397.000000</td>\n",
              "      <td>386.970001</td>\n",
              "      <td>396.690002</td>\n",
              "      <td>388.000000</td>\n",
              "      <td>25911500.0</td>\n",
              "      <td>387.301697</td>\n",
              "    </tr>\n",
              "    <tr>\n",
              "      <th>2020-07-22</th>\n",
              "      <td>391.899994</td>\n",
              "      <td>386.410004</td>\n",
              "      <td>386.769989</td>\n",
              "      <td>389.089996</td>\n",
              "      <td>22250400.0</td>\n",
              "      <td>388.389740</td>\n",
              "    </tr>\n",
              "    <tr>\n",
              "      <th>2020-07-23</th>\n",
              "      <td>388.309998</td>\n",
              "      <td>368.040009</td>\n",
              "      <td>387.989990</td>\n",
              "      <td>371.380005</td>\n",
              "      <td>49251100.0</td>\n",
              "      <td>370.711609</td>\n",
              "    </tr>\n",
              "    <tr>\n",
              "      <th>2020-07-24</th>\n",
              "      <td>371.880005</td>\n",
              "      <td>356.579987</td>\n",
              "      <td>363.950012</td>\n",
              "      <td>370.459991</td>\n",
              "      <td>46359700.0</td>\n",
              "      <td>369.793243</td>\n",
              "    </tr>\n",
              "  </tbody>\n",
              "</table>\n",
              "<p>2154 rows × 6 columns</p>\n",
              "</div>"
            ],
            "text/plain": [
              "                  High         Low  ...      Volume   Adj Close\n",
              "Date                                ...                        \n",
              "2012-01-03   58.928570   58.428570  ...  75555200.0   50.765709\n",
              "2012-01-04   59.240002   58.468571  ...  65005500.0   51.038536\n",
              "2012-01-05   59.792858   58.952858  ...  67817400.0   51.605175\n",
              "2012-01-06   60.392857   59.888573  ...  79573200.0   52.144630\n",
              "2012-01-09   61.107143   60.192856  ...  98506100.0   52.061932\n",
              "...                ...         ...  ...         ...         ...\n",
              "2020-07-20  394.000000  384.250000  ...  22579500.0  392.721924\n",
              "2020-07-21  397.000000  386.970001  ...  25911500.0  387.301697\n",
              "2020-07-22  391.899994  386.410004  ...  22250400.0  388.389740\n",
              "2020-07-23  388.309998  368.040009  ...  49251100.0  370.711609\n",
              "2020-07-24  371.880005  356.579987  ...  46359700.0  369.793243\n",
              "\n",
              "[2154 rows x 6 columns]"
            ]
          },
          "metadata": {
            "tags": []
          },
          "execution_count": 7
        }
      ]
    },
    {
      "cell_type": "code",
      "metadata": {
        "id": "vyTvLF6Jcqii",
        "colab_type": "code",
        "colab": {
          "base_uri": "https://localhost:8080/",
          "height": 33
        },
        "outputId": "817b2896-3558-4b59-af9d-ee799dbdd55d"
      },
      "source": [
        "# Get thenumber of rows and columns in the data set\n",
        "\n",
        "df.shape"
      ],
      "execution_count": null,
      "outputs": [
        {
          "output_type": "execute_result",
          "data": {
            "text/plain": [
              "(2154, 6)"
            ]
          },
          "metadata": {
            "tags": []
          },
          "execution_count": 8
        }
      ]
    },
    {
      "cell_type": "code",
      "metadata": {
        "id": "RC8g1MQ0dHED",
        "colab_type": "code",
        "colab": {
          "base_uri": "https://localhost:8080/",
          "height": 558
        },
        "outputId": "d8234e15-c994-4469-88b3-e8a4bfe192fa"
      },
      "source": [
        "# Visualize the closing price history\n",
        "\n",
        "plt.figure(figsize=(16, 8))\n",
        "plt.title('Close Price History')\n",
        "plt.plot(df['Close'])\n",
        "plt.xlabel('Date', fontsize = 18)\n",
        "plt.ylabel('Close Price USD ($)', fontsize = 18)\n",
        "plt.show()"
      ],
      "execution_count": null,
      "outputs": [
        {
          "output_type": "display_data",
          "data": {
            "image/png": "[encoded data removed]",
            "text/plain": [
              "<Figure size 1152x576 with 1 Axes>"
            ]
          },
          "metadata": {
            "tags": []
          }
        }
      ]
    },
    {
      "cell_type": "code",
      "metadata": {
        "id": "0ycWbU2xeT2I",
        "colab_type": "code",
        "colab": {
          "base_uri": "https://localhost:8080/",
          "height": 33
        },
        "outputId": "026f3112-0213-41aa-e9c2-07dc1d144e49"
      },
      "source": [
        "# Create a new dataframe with only the 'Close column'\n",
        "\n",
        "data = df.filter(['Close'])\n",
        "\n",
        "# Convert the dataframe to a numpy array\n",
        "\n",
        "dataset = data.values\n",
        "\n",
        "# Get the number of rows to train the model on\n",
        "\n",
        "training_data_len = math.ceil(len(dataset) * .8)\n",
        "\n",
        "training_data_len"
      ],
      "execution_count": null,
      "outputs": [
        {
          "output_type": "execute_result",
          "data": {
            "text/plain": [
              "1724"
            ]
          },
          "metadata": {
            "tags": []
          },
          "execution_count": 10
        }
      ]
    },
    {
      "cell_type": "code",
      "metadata": {
        "id": "ZgAmKjE1ftPg",
        "colab_type": "code",
        "colab": {
          "base_uri": "https://localhost:8080/",
          "height": 134
        },
        "outputId": "1ba15d7a-fd4c-418c-b7fd-a866fa1e0586"
      },
      "source": [
        "# Scale the data\n",
        "\n",
        "scaler = MinMaxScaler(feature_range=(0, 1))\n",
        "scaled_data = scaler.fit_transform(dataset)\n",
        "\n",
        "scaled_data"
      ],
      "execution_count": null,
      "outputs": [
        {
          "output_type": "execute_result",
          "data": {
            "text/plain": [
              "array([[0.00875827],\n",
              "       [0.00969334],\n",
              "       [0.01163538],\n",
              "       ...,\n",
              "       [0.98714608],\n",
              "       [0.93469379],\n",
              "       [0.93196896]])"
            ]
          },
          "metadata": {
            "tags": []
          },
          "execution_count": 11
        }
      ]
    },
    {
      "cell_type": "code",
      "metadata": {
        "id": "M4C-6-sQgXFA",
        "colab_type": "code",
        "colab": {
          "base_uri": "https://localhost:8080/",
          "height": 669
        },
        "outputId": "7e5f398f-0250-43d4-a505-7792c96fd84d"
      },
      "source": [
        "# Create the training dataset\n",
        "# Create the scaled training data set\n",
        "\n",
        "train_data = scaled_data[0:training_data_len, :]\n",
        "\n",
        "# Split the data into x_train and y_train data sets\n",
        "\n",
        "x_train = []\n",
        "y_train = []\n",
        "\n",
        "for i in range(60, len(train_data)):\n",
        "  x_train.append(train_data[i-60:i, 0])\n",
        "  y_train.append(train_data[i, 0])\n",
        "  if i<= 61:\n",
        "    print(x_train)\n",
        "    print(y_train)\n",
        "    print()"
      ],
      "execution_count": null,
      "outputs": [
        {
          "output_type": "stream",
          "text": [
            "[array([0.00875827, 0.00969334, 0.01163538, 0.01348435, 0.01320087,\n",
            "       0.01383976, 0.01354781, 0.01305701, 0.01238851, 0.01445749,\n",
            "       0.01632339, 0.01574796, 0.01259583, 0.01560411, 0.01264237,\n",
            "       0.02374887, 0.02288997, 0.02401121, 0.02643559, 0.02790376,\n",
            "       0.02778106, 0.02732835, 0.0292577 , 0.03107281, 0.03312912,\n",
            "       0.03645049, 0.04342749, 0.04353326, 0.04741738, 0.05031986,\n",
            "       0.04533145, 0.04725235, 0.04721428, 0.05260041, 0.05183458,\n",
            "       0.05325197, 0.05579907, 0.05721648, 0.06129944, 0.06427388,\n",
            "       0.06513276, 0.06543318, 0.06034746, 0.05912044, 0.05930239,\n",
            "       0.06408346, 0.06542895, 0.06831874, 0.07513074, 0.08421904,\n",
            "       0.08251815, 0.08252237, 0.0890932 , 0.09114948, 0.08968554,\n",
            "       0.08834854, 0.08695653, 0.09158105, 0.09475435, 0.0960829 ])]\n",
            "[0.09279959717229741]\n",
            "\n",
            "[array([0.00875827, 0.00969334, 0.01163538, 0.01348435, 0.01320087,\n",
            "       0.01383976, 0.01354781, 0.01305701, 0.01238851, 0.01445749,\n",
            "       0.01632339, 0.01574796, 0.01259583, 0.01560411, 0.01264237,\n",
            "       0.02374887, 0.02288997, 0.02401121, 0.02643559, 0.02790376,\n",
            "       0.02778106, 0.02732835, 0.0292577 , 0.03107281, 0.03312912,\n",
            "       0.03645049, 0.04342749, 0.04353326, 0.04741738, 0.05031986,\n",
            "       0.04533145, 0.04725235, 0.04721428, 0.05260041, 0.05183458,\n",
            "       0.05325197, 0.05579907, 0.05721648, 0.06129944, 0.06427388,\n",
            "       0.06513276, 0.06543318, 0.06034746, 0.05912044, 0.05930239,\n",
            "       0.06408346, 0.06542895, 0.06831874, 0.07513074, 0.08421904,\n",
            "       0.08251815, 0.08252237, 0.0890932 , 0.09114948, 0.08968554,\n",
            "       0.08834854, 0.08695653, 0.09158105, 0.09475435, 0.0960829 ]), array([0.00969334, 0.01163538, 0.01348435, 0.01320087, 0.01383976,\n",
            "       0.01354781, 0.01305701, 0.01238851, 0.01445749, 0.01632339,\n",
            "       0.01574796, 0.01259583, 0.01560411, 0.01264237, 0.02374887,\n",
            "       0.02288997, 0.02401121, 0.02643559, 0.02790376, 0.02778106,\n",
            "       0.02732835, 0.0292577 , 0.03107281, 0.03312912, 0.03645049,\n",
            "       0.04342749, 0.04353326, 0.04741738, 0.05031986, 0.04533145,\n",
            "       0.04725235, 0.04721428, 0.05260041, 0.05183458, 0.05325197,\n",
            "       0.05579907, 0.05721648, 0.06129944, 0.06427388, 0.06513276,\n",
            "       0.06543318, 0.06034746, 0.05912044, 0.05930239, 0.06408346,\n",
            "       0.06542895, 0.06831874, 0.07513074, 0.08421904, 0.08251815,\n",
            "       0.08252237, 0.0890932 , 0.09114948, 0.08968554, 0.08834854,\n",
            "       0.08695653, 0.09158105, 0.09475435, 0.0960829 , 0.0927996 ])]\n",
            "[0.09279959717229741, 0.08843739290088032]\n",
            "\n"
          ],
          "name": "stdout"
        }
      ]
    },
    {
      "cell_type": "code",
      "metadata": {
        "id": "pTKVeILDh6r3",
        "colab_type": "code",
        "colab": {}
      },
      "source": [
        "# Convert the x_train and y_train to numpy arrays\n",
        "\n",
        "x_train, y_train = np.array(x_train), np.array(y_train)"
      ],
      "execution_count": null,
      "outputs": []
    },
    {
      "cell_type": "code",
      "metadata": {
        "id": "pazNW7k_k3UK",
        "colab_type": "code",
        "colab": {
          "base_uri": "https://localhost:8080/",
          "height": 33
        },
        "outputId": "0ca48887-d977-4cd1-e35f-cc6ac3eb29b1"
      },
      "source": [
        "# Reshape the data\n",
        "\n",
        "x_train = np.reshape(x_train, (x_train.shape[0], x_train.shape[1], 1))\n",
        "x_train.shape"
      ],
      "execution_count": null,
      "outputs": [
        {
          "output_type": "execute_result",
          "data": {
            "text/plain": [
              "(1664, 60, 1)"
            ]
          },
          "metadata": {
            "tags": []
          },
          "execution_count": 14
        }
      ]
    },
    {
      "cell_type": "code",
      "metadata": {
        "id": "SkawjeRclCJo",
        "colab_type": "code",
        "colab": {}
      },
      "source": [
        "# Build the LSTM model\n",
        "\n",
        "model = Sequential()\n",
        "model.add(LSTM(50, return_sequences=True, input_shape=(x_train.shape[1], 1)))\n",
        "model.add(LSTM(50, return_sequences=False))\n",
        "model.add(Dense(25))\n",
        "model.add(Dense(1))"
      ],
      "execution_count": null,
      "outputs": []
    },
    {
      "cell_type": "code",
      "metadata": {
        "id": "V23olKn4mzfm",
        "colab_type": "code",
        "colab": {}
      },
      "source": [
        "# Compile the model\n",
        "\n",
        "model.compile(optimizer='adam', loss='mean_squared_error')"
      ],
      "execution_count": null,
      "outputs": []
    },
    {
      "cell_type": "code",
      "metadata": {
        "id": "tTrVhbJqnLXP",
        "colab_type": "code",
        "colab": {
          "base_uri": "https://localhost:8080/",
          "height": 50
        },
        "outputId": "c1cc590d-4913-471f-9932-70d1496c54c9"
      },
      "source": [
        "# Train the model\n",
        "\n",
        "model.fit(x_train, y_train, batch_size=1, epochs=1)"
      ],
      "execution_count": null,
      "outputs": [
        {
          "output_type": "stream",
          "text": [
            "1664/1664 [==============================] - 35s 21ms/step - loss: 4.1122e-04\n"
          ],
          "name": "stdout"
        },
        {
          "output_type": "execute_result",
          "data": {
            "text/plain": [
              "<tensorflow.python.keras.callbacks.History at 0x7fc8e360f710>"
            ]
          },
          "metadata": {
            "tags": []
          },
          "execution_count": 17
        }
      ]
    },
    {
      "cell_type": "code",
      "metadata": {
        "id": "ONK9C8cyngmU",
        "colab_type": "code",
        "colab": {}
      },
      "source": [
        "# Create the testing data set\n",
        "# Create a new array containing scaled values from index 1664 to 2004\n",
        "\n",
        "test_data = scaled_data[training_data_len - 60: , :]\n",
        "\n",
        "# Create the data sets x_test and y_test\n",
        "\n",
        "x_test = []\n",
        "y_test = dataset[training_data_len:, :]\n",
        "for i in range(60, len(test_data)):\n",
        "  x_test.append(test_data[i-60:i, 0])"
      ],
      "execution_count": null,
      "outputs": []
    },
    {
      "cell_type": "code",
      "metadata": {
        "id": "IJXxmorAps5C",
        "colab_type": "code",
        "colab": {}
      },
      "source": [
        "# Convert the data to a numpy array\n",
        "\n",
        "x_test = np.array(x_test)"
      ],
      "execution_count": null,
      "outputs": []
    },
    {
      "cell_type": "code",
      "metadata": {
        "id": "boJSv4_iqHyc",
        "colab_type": "code",
        "colab": {}
      },
      "source": [
        "#Reshape the data\n",
        "\n",
        "x_test = np.reshape(x_test,(x_test.shape[0], x_test.shape[1], 1))"
      ],
      "execution_count": null,
      "outputs": []
    },
    {
      "cell_type": "code",
      "metadata": {
        "id": "tR8BMlcBqqvO",
        "colab_type": "code",
        "colab": {}
      },
      "source": [
        "# Get the models predicted price values\n",
        "\n",
        "predictions = model.predict(x_test)\n",
        "predictions = scaler.inverse_transform(predictions)"
      ],
      "execution_count": null,
      "outputs": []
    },
    {
      "cell_type": "code",
      "metadata": {
        "id": "vg5rTiGleuDT",
        "colab_type": "code",
        "colab": {
          "base_uri": "https://localhost:8080/",
          "height": 33
        },
        "outputId": "ab83e486-c876-43cf-85c0-502830c85fb3"
      },
      "source": [
        "# Get the root mean squared error (RMSE)\n",
        "\n",
        "rmse = np.sqrt(np.mean(predictions - y_test)**2 )\n",
        "rmse"
      ],
      "execution_count": null,
      "outputs": [
        {
          "output_type": "execute_result",
          "data": {
            "text/plain": [
              "14.361977971986283"
            ]
          },
          "metadata": {
            "tags": []
          },
          "execution_count": 23
        }
      ]
    },
    {
      "cell_type": "code",
      "metadata": {
        "id": "046O34_Yf9FD",
        "colab_type": "code",
        "colab": {
          "base_uri": "https://localhost:8080/",
          "height": 658
        },
        "outputId": "6df8c886-f338-4572-e2c8-b855e4fb6841"
      },
      "source": [
        "# Plot the data\n",
        "\n",
        "train = data[:training_data_len]\n",
        "valid = data[training_data_len:]\n",
        "valid['Predictions'] = predictions\n",
        "\n",
        "# Visualize the data\n",
        "\n",
        "plt.figure(figsize=(16, 8))\n",
        "plt.title('Model')\n",
        "plt.xlabel('Date', fontsize = 18)\n",
        "plt.ylabel('Close Price USD ($)', fontsize = 18)\n",
        "plt.plot(train['Close'])\n",
        "plt.plot(valid[['Close', 'Predictions']])\n",
        "plt.legend(['Train', 'Val', 'Predictions'], loc='lower right')\n",
        "plt.show()"
      ],
      "execution_count": null,
      "outputs": [
        {
          "output_type": "stream",
          "text": [
            "/usr/local/lib/python3.6/dist-packages/ipykernel_launcher.py:5: SettingWithCopyWarning: \n",
            "A value is trying to be set on a copy of a slice from a DataFrame.\n",
            "Try using .loc[row_indexer,col_indexer] = value instead\n",
            "\n",
            "See the caveats in the documentation: https://pandas.pydata.org/pandas-docs/stable/user_guide/indexing.html#returning-a-view-versus-a-copy\n",
            "  \"\"\"\n"
          ],
          "name": "stderr"
        },
        {
          "output_type": "display_data",
          "data": {
            "image/png": "[encoded data removed]",
            "text/plain": [
              "<Figure size 1152x576 with 1 Axes>"
            ]
          },
          "metadata": {
            "tags": []
          }
        }
      ]
    },
    {
      "cell_type": "code",
      "metadata": {
        "id": "V0FAZiWFiDh4",
        "colab_type": "code",
        "colab": {
          "base_uri": "https://localhost:8080/",
          "height": 434
        },
        "outputId": "0d2ded18-cea9-4531-bdd9-08257b4520bf"
      },
      "source": [
        "# Show the valid and predicted prices\n",
        "\n",
        "valid"
      ],
      "execution_count": null,
      "outputs": [
        {
          "output_type": "execute_result",
          "data": {
            "text/html": [
              "<div>\n",
              "<style scoped>\n",
              "    .dataframe tbody tr th:only-of-type {\n",
              "        vertical-align: middle;\n",
              "    }\n",
              "\n",
              "    .dataframe tbody tr th {\n",
              "        vertical-align: top;\n",
              "    }\n",
              "\n",
              "    .dataframe thead th {\n",
              "        text-align: right;\n",
              "    }\n",
              "</style>\n",
              "<table border=\"1\" class=\"dataframe\">\n",
              "  <thead>\n",
              "    <tr style=\"text-align: right;\">\n",
              "      <th></th>\n",
              "      <th>Close</th>\n",
              "      <th>Predictions</th>\n",
              "    </tr>\n",
              "    <tr>\n",
              "      <th>Date</th>\n",
              "      <th></th>\n",
              "      <th></th>\n",
              "    </tr>\n",
              "  </thead>\n",
              "  <tbody>\n",
              "    <tr>\n",
              "      <th>2018-11-07</th>\n",
              "      <td>209.949997</td>\n",
              "      <td>202.189270</td>\n",
              "    </tr>\n",
              "    <tr>\n",
              "      <th>2018-11-08</th>\n",
              "      <td>208.490005</td>\n",
              "      <td>200.935654</td>\n",
              "    </tr>\n",
              "    <tr>\n",
              "      <th>2018-11-09</th>\n",
              "      <td>204.470001</td>\n",
              "      <td>200.112640</td>\n",
              "    </tr>\n",
              "    <tr>\n",
              "      <th>2018-11-12</th>\n",
              "      <td>194.169998</td>\n",
              "      <td>199.182907</td>\n",
              "    </tr>\n",
              "    <tr>\n",
              "      <th>2018-11-13</th>\n",
              "      <td>192.229996</td>\n",
              "      <td>197.180649</td>\n",
              "    </tr>\n",
              "    <tr>\n",
              "      <th>...</th>\n",
              "      <td>...</td>\n",
              "      <td>...</td>\n",
              "    </tr>\n",
              "    <tr>\n",
              "      <th>2020-07-20</th>\n",
              "      <td>393.429993</td>\n",
              "      <td>353.244446</td>\n",
              "    </tr>\n",
              "    <tr>\n",
              "      <th>2020-07-21</th>\n",
              "      <td>388.000000</td>\n",
              "      <td>354.458618</td>\n",
              "    </tr>\n",
              "    <tr>\n",
              "      <th>2020-07-22</th>\n",
              "      <td>389.089996</td>\n",
              "      <td>355.053345</td>\n",
              "    </tr>\n",
              "    <tr>\n",
              "      <th>2020-07-23</th>\n",
              "      <td>371.380005</td>\n",
              "      <td>355.453827</td>\n",
              "    </tr>\n",
              "    <tr>\n",
              "      <th>2020-07-24</th>\n",
              "      <td>370.459991</td>\n",
              "      <td>353.569458</td>\n",
              "    </tr>\n",
              "  </tbody>\n",
              "</table>\n",
              "<p>430 rows × 2 columns</p>\n",
              "</div>"
            ],
            "text/plain": [
              "                 Close  Predictions\n",
              "Date                               \n",
              "2018-11-07  209.949997   202.189270\n",
              "2018-11-08  208.490005   200.935654\n",
              "2018-11-09  204.470001   200.112640\n",
              "2018-11-12  194.169998   199.182907\n",
              "2018-11-13  192.229996   197.180649\n",
              "...                ...          ...\n",
              "2020-07-20  393.429993   353.244446\n",
              "2020-07-21  388.000000   354.458618\n",
              "2020-07-22  389.089996   355.053345\n",
              "2020-07-23  371.380005   355.453827\n",
              "2020-07-24  370.459991   353.569458\n",
              "\n",
              "[430 rows x 2 columns]"
            ]
          },
          "metadata": {
            "tags": []
          },
          "execution_count": 25
        }
      ]
    },
    {
      "cell_type": "code",
      "metadata": {
        "id": "a8VSwc5zicGt",
        "colab_type": "code",
        "colab": {
          "base_uri": "https://localhost:8080/",
          "height": 33
        },
        "outputId": "9822c92c-aedf-4e32-bbbe-b798d31907e2"
      },
      "source": [
        "# Get the quote\n",
        "\n",
        "apple_quote = web.DataReader('AAPL', data_source = 'yahoo', start='2012-01-01', end='2020-07-25')\n",
        "\n",
        "# Create a new dataframe\n",
        "\n",
        "new_df = apple_quote.filter(['Close'])\n",
        "\n",
        "# Get the last 60 day closing price values and convert the dataframe to an array\n",
        "\n",
        "last_60_days = new_df[-60:].values\n",
        "\n",
        "# Scale the data to be values between 0 and 1\n",
        "\n",
        "last_60_days_scaled = scaler.transform(last_60_days)\n",
        "\n",
        "# Create an empty list\n",
        "\n",
        "X_test = []\n",
        "\n",
        "# Append the past 60 days\n",
        "\n",
        "X_test.append(last_60_days_scaled)\n",
        "\n",
        "# Convert the X_test data set to numpy array\n",
        "\n",
        "X_test = np.array(X_test)\n",
        "\n",
        "# Reshape the data\n",
        "\n",
        "X_test = np.reshape(X_test, (X_test.shape[0], X_test.shape[1], 1))\n",
        "\n",
        "# Get the predicted scaled price\n",
        "\n",
        "pred_price = model.predict(X_test)\n",
        "\n",
        "# undo the scaling\n",
        "\n",
        "pred_price = scaler.inverse_transform(pred_price)\n",
        "print(pred_price)"
      ],
      "execution_count": null,
      "outputs": [
        {
          "output_type": "stream",
          "text": [
            "[[350.86905]]\n"
          ],
          "name": "stdout"
        }
      ]
    },
    {
      "cell_type": "code",
      "metadata": {
        "id": "8Jp3FDwtlwHS",
        "colab_type": "code",
        "colab": {
          "base_uri": "https://localhost:8080/",
          "height": 67
        },
        "outputId": "bb8ebf13-0c59-4466-e3ae-e8912698a65f"
      },
      "source": [
        "# Get the quote\n",
        "\n",
        "apple_quote2 = web.DataReader('AAPL', data_source = 'yahoo', start='2020-07-29', end='2020-07-29')\n",
        "print(apple_quote2['Close'])"
      ],
      "execution_count": null,
      "outputs": [
        {
          "output_type": "stream",
          "text": [
            "Date\n",
            "2020-07-29    380.160004\n",
            "Name: Close, dtype: float64\n"
          ],
          "name": "stdout"
        }
      ]
    }
  ]
}